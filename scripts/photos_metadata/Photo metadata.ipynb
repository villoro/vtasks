{
 "cells": [
  {
   "cell_type": "code",
   "execution_count": 1,
   "id": "4c3bc5a0",
   "metadata": {},
   "outputs": [],
   "source": [
    "import sys\n",
    "from metadata import *"
   ]
  },
  {
   "cell_type": "code",
   "execution_count": 2,
   "id": "c06db07f",
   "metadata": {},
   "outputs": [],
   "source": [
    "CONFIG = {\n",
    "    \"handlers\": [\n",
    "        {\"sink\": sys.stdout, \"level\": \"ERROR\"},\n",
    "        {\"sink\": \"info.log\", \"level\": \"INFO\"},\n",
    "        {\"sink\": \"debug.log\", \"level\": \"DEBUG\"},\n",
    "    ]\n",
    "}\n",
    "\n",
    "log.configure(**CONFIG)\n",
    "log.enable(\"metadata\")\n",
    "\n",
    "PATH = \"C:/Users/Villoro/Documents/Mega/Videos/03 Final\"\n",
    "# PATH = \"D:\\Photos\\Personal\""
   ]
  },
  {
   "cell_type": "code",
   "execution_count": 6,
   "id": "dc3a4f6c",
   "metadata": {},
   "outputs": [
    {
     "data": {
      "application/vnd.jupyter.widget-view+json": {
       "model_id": "1546bfc803fe4144ab32f7d648538828",
       "version_major": 2,
       "version_minor": 0
      },
      "text/plain": [
       "  0%|          | 0/620 [00:00<?, ?it/s]"
      ]
     },
     "metadata": {},
     "output_type": "display_data"
    },
    {
     "name": "stdout",
     "output_type": "stream",
     "text": [
      "2022-05-15 12:27:50.349 | ERROR    | metadata:get_folder_date:42 - Unable to extract data for folder='E:'\n"
     ]
    },
    {
     "name": "stderr",
     "output_type": "stream",
     "text": [
      "C:\\Python\\Python39\\lib\\site-packages\\exif\\_image.py:171: RuntimeWarning: ASCII tag contains -1 fewer bytes than specified\n",
      "  retval = self.__getattr__(attribute)\n"
     ]
    },
    {
     "name": "stdout",
     "output_type": "stream",
     "text": [
      "2022-05-15 12:33:54.325 | ERROR    | metadata:get_folder_date:42 - Unable to extract data for folder='E:'\n",
      "2022-05-15 12:33:54.327 | ERROR    | metadata:get_folder_date:42 - Unable to extract data for folder='E:'\n",
      "2022-05-15 12:33:54.329 | ERROR    | metadata:get_folder_date:42 - Unable to extract data for folder='E:'\n"
     ]
    },
    {
     "data": {
      "text/html": [
       "<div>\n",
       "<style scoped>\n",
       "    .dataframe tbody tr th:only-of-type {\n",
       "        vertical-align: middle;\n",
       "    }\n",
       "\n",
       "    .dataframe tbody tr th {\n",
       "        vertical-align: top;\n",
       "    }\n",
       "\n",
       "    .dataframe thead th {\n",
       "        text-align: right;\n",
       "    }\n",
       "</style>\n",
       "<table border=\"1\" class=\"dataframe\">\n",
       "  <thead>\n",
       "    <tr style=\"text-align: right;\">\n",
       "      <th></th>\n",
       "      <th>path</th>\n",
       "      <th>folder_date</th>\n",
       "      <th>updated</th>\n",
       "      <th>total</th>\n",
       "    </tr>\n",
       "  </thead>\n",
       "  <tbody>\n",
       "    <tr>\n",
       "      <th>0</th>\n",
       "      <td></td>\n",
       "      <td>False</td>\n",
       "      <td>0</td>\n",
       "      <td>0</td>\n",
       "    </tr>\n",
       "    <tr>\n",
       "      <th>1</th>\n",
       "      <td>1932</td>\n",
       "      <td>1932</td>\n",
       "      <td>6</td>\n",
       "      <td>7</td>\n",
       "    </tr>\n",
       "    <tr>\n",
       "      <th>2</th>\n",
       "      <td>1934</td>\n",
       "      <td>1934</td>\n",
       "      <td>4</td>\n",
       "      <td>4</td>\n",
       "    </tr>\n",
       "    <tr>\n",
       "      <th>3</th>\n",
       "      <td>1940</td>\n",
       "      <td>1940</td>\n",
       "      <td>2</td>\n",
       "      <td>2</td>\n",
       "    </tr>\n",
       "    <tr>\n",
       "      <th>4</th>\n",
       "      <td>1948</td>\n",
       "      <td>1948</td>\n",
       "      <td>2</td>\n",
       "      <td>2</td>\n",
       "    </tr>\n",
       "    <tr>\n",
       "      <th>...</th>\n",
       "      <td>...</td>\n",
       "      <td>...</td>\n",
       "      <td>...</td>\n",
       "      <td>...</td>\n",
       "    </tr>\n",
       "    <tr>\n",
       "      <th>605</th>\n",
       "      <td>2022\\2022_04_17 Mona</td>\n",
       "      <td>2022:04:17</td>\n",
       "      <td>8</td>\n",
       "      <td>8</td>\n",
       "    </tr>\n",
       "    <tr>\n",
       "      <th>606</th>\n",
       "      <td>2022\\2022_06_01 Reis</td>\n",
       "      <td>2022:06:01</td>\n",
       "      <td>0</td>\n",
       "      <td>2</td>\n",
       "    </tr>\n",
       "    <tr>\n",
       "      <th>607</th>\n",
       "      <td>Fotos muntatge</td>\n",
       "      <td>False</td>\n",
       "      <td>0</td>\n",
       "      <td>0</td>\n",
       "    </tr>\n",
       "    <tr>\n",
       "      <th>608</th>\n",
       "      <td>todo</td>\n",
       "      <td>False</td>\n",
       "      <td>0</td>\n",
       "      <td>0</td>\n",
       "    </tr>\n",
       "    <tr>\n",
       "      <th>609</th>\n",
       "      <td>tt confirma data</td>\n",
       "      <td>False</td>\n",
       "      <td>0</td>\n",
       "      <td>0</td>\n",
       "    </tr>\n",
       "  </tbody>\n",
       "</table>\n",
       "<p>610 rows × 4 columns</p>\n",
       "</div>"
      ],
      "text/plain": [
       "                     path folder_date  updated  total\n",
       "0                               False        0      0\n",
       "1                    1932        1932        6      7\n",
       "2                    1934        1934        4      4\n",
       "3                    1940        1940        2      2\n",
       "4                    1948        1948        2      2\n",
       "..                    ...         ...      ...    ...\n",
       "605  2022\\2022_04_17 Mona  2022:04:17        8      8\n",
       "606  2022\\2022_06_01 Reis  2022:06:01        0      2\n",
       "607        Fotos muntatge       False        0      0\n",
       "608                  todo       False        0      0\n",
       "609      tt confirma data       False        0      0\n",
       "\n",
       "[610 rows x 4 columns]"
      ]
     },
     "execution_count": 6,
     "metadata": {},
     "output_type": "execute_result"
    }
   ],
   "source": [
    "dfg = get_all_files_in_path(PATH)\n",
    "dfg"
   ]
  },
  {
   "cell_type": "markdown",
   "id": "5d528e08",
   "metadata": {},
   "source": [
    "# Explore results"
   ]
  },
  {
   "cell_type": "code",
   "execution_count": 9,
   "id": "7da7f8d0",
   "metadata": {},
   "outputs": [],
   "source": [
    "df = dfg[dfg[\"folder_date\"] == False].copy()"
   ]
  },
  {
   "cell_type": "code",
   "execution_count": 16,
   "id": "4a12514c",
   "metadata": {},
   "outputs": [
    {
     "data": {
      "text/html": [
       "<div>\n",
       "<style scoped>\n",
       "    .dataframe tbody tr th:only-of-type {\n",
       "        vertical-align: middle;\n",
       "    }\n",
       "\n",
       "    .dataframe tbody tr th {\n",
       "        vertical-align: top;\n",
       "    }\n",
       "\n",
       "    .dataframe thead th {\n",
       "        text-align: right;\n",
       "    }\n",
       "</style>\n",
       "<table border=\"1\" class=\"dataframe\">\n",
       "  <thead>\n",
       "    <tr style=\"text-align: right;\">\n",
       "      <th></th>\n",
       "      <th>path</th>\n",
       "      <th>folder_date</th>\n",
       "      <th>updated</th>\n",
       "      <th>total</th>\n",
       "    </tr>\n",
       "  </thead>\n",
       "  <tbody>\n",
       "    <tr>\n",
       "      <th>0</th>\n",
       "      <td></td>\n",
       "      <td>False</td>\n",
       "      <td>0</td>\n",
       "      <td>0</td>\n",
       "    </tr>\n",
       "    <tr>\n",
       "      <th>39</th>\n",
       "      <td>2003\\Campas 03</td>\n",
       "      <td>False</td>\n",
       "      <td>0</td>\n",
       "      <td>0</td>\n",
       "    </tr>\n",
       "    <tr>\n",
       "      <th>40</th>\n",
       "      <td>2003\\excurció conjunta</td>\n",
       "      <td>False</td>\n",
       "      <td>0</td>\n",
       "      <td>0</td>\n",
       "    </tr>\n",
       "    <tr>\n",
       "      <th>41</th>\n",
       "      <td>2003\\excursio gaià</td>\n",
       "      <td>False</td>\n",
       "      <td>0</td>\n",
       "      <td>0</td>\n",
       "    </tr>\n",
       "    <tr>\n",
       "      <th>42</th>\n",
       "      <td>2003\\excursió a begues</td>\n",
       "      <td>False</td>\n",
       "      <td>0</td>\n",
       "      <td>0</td>\n",
       "    </tr>\n",
       "    <tr>\n",
       "      <th>...</th>\n",
       "      <td>...</td>\n",
       "      <td>...</td>\n",
       "      <td>...</td>\n",
       "      <td>...</td>\n",
       "    </tr>\n",
       "    <tr>\n",
       "      <th>632</th>\n",
       "      <td>2021\\2021_09 Gommone\\Gopro</td>\n",
       "      <td>False</td>\n",
       "      <td>0</td>\n",
       "      <td>0</td>\n",
       "    </tr>\n",
       "    <tr>\n",
       "      <th>633</th>\n",
       "      <td>2021\\2021_09 Gommone\\Villoro</td>\n",
       "      <td>False</td>\n",
       "      <td>0</td>\n",
       "      <td>0</td>\n",
       "    </tr>\n",
       "    <tr>\n",
       "      <th>638</th>\n",
       "      <td>2021\\2021_12 Finland\\Arnau</td>\n",
       "      <td>False</td>\n",
       "      <td>0</td>\n",
       "      <td>0</td>\n",
       "    </tr>\n",
       "    <tr>\n",
       "      <th>639</th>\n",
       "      <td>2021\\2021_12 Finland\\Gopro</td>\n",
       "      <td>False</td>\n",
       "      <td>0</td>\n",
       "      <td>0</td>\n",
       "    </tr>\n",
       "    <tr>\n",
       "      <th>647</th>\n",
       "      <td>2022\\2022_02 Domusnovas\\Villoro</td>\n",
       "      <td>False</td>\n",
       "      <td>0</td>\n",
       "      <td>0</td>\n",
       "    </tr>\n",
       "  </tbody>\n",
       "</table>\n",
       "<p>509 rows × 4 columns</p>\n",
       "</div>"
      ],
      "text/plain": [
       "                                path folder_date  updated  total\n",
       "0                                          False        0      0\n",
       "39                    2003\\Campas 03       False        0      0\n",
       "40            2003\\excurció conjunta       False        0      0\n",
       "41                2003\\excursio gaià       False        0      0\n",
       "42            2003\\excursió a begues       False        0      0\n",
       "..                               ...         ...      ...    ...\n",
       "632       2021\\2021_09 Gommone\\Gopro       False        0      0\n",
       "633     2021\\2021_09 Gommone\\Villoro       False        0      0\n",
       "638       2021\\2021_12 Finland\\Arnau       False        0      0\n",
       "639       2021\\2021_12 Finland\\Gopro       False        0      0\n",
       "647  2022\\2022_02 Domusnovas\\Villoro       False        0      0\n",
       "\n",
       "[509 rows x 4 columns]"
      ]
     },
     "execution_count": 16,
     "metadata": {},
     "output_type": "execute_result"
    }
   ],
   "source": [
    "df"
   ]
  },
  {
   "cell_type": "code",
   "execution_count": 11,
   "id": "390584d6",
   "metadata": {},
   "outputs": [
    {
     "data": {
      "text/plain": [
       "((606, 4), (610, 4))"
      ]
     },
     "execution_count": 11,
     "metadata": {},
     "output_type": "execute_result"
    }
   ],
   "source": [
    "mask = (dfg[\"folder_date\"] == False) & (dfg[\"total\"] == 0)\n",
    "dfg[~mask].shape, dfg.shape"
   ]
  },
  {
   "cell_type": "markdown",
   "id": "56d3f60d",
   "metadata": {},
   "source": [
    "# Fix stuff"
   ]
  },
  {
   "cell_type": "code",
   "execution_count": 3,
   "id": "2c5c506e",
   "metadata": {},
   "outputs": [
    {
     "data": {
      "application/vnd.jupyter.widget-view+json": {
       "model_id": "f60d900275094eee9ac0577e8acb76d5",
       "version_major": 2,
       "version_minor": 0
      },
      "text/plain": [
       "  0%|          | 0/22 [00:00<?, ?it/s]"
      ]
     },
     "metadata": {},
     "output_type": "display_data"
    },
    {
     "data": {
      "text/html": [
       "<div>\n",
       "<style scoped>\n",
       "    .dataframe tbody tr th:only-of-type {\n",
       "        vertical-align: middle;\n",
       "    }\n",
       "\n",
       "    .dataframe tbody tr th {\n",
       "        vertical-align: top;\n",
       "    }\n",
       "\n",
       "    .dataframe thead th {\n",
       "        text-align: right;\n",
       "    }\n",
       "</style>\n",
       "<table border=\"1\" class=\"dataframe\">\n",
       "  <thead>\n",
       "    <tr style=\"text-align: right;\">\n",
       "      <th></th>\n",
       "      <th>base_path</th>\n",
       "      <th>folder</th>\n",
       "      <th>folder_date</th>\n",
       "      <th>file</th>\n",
       "      <th>to_update</th>\n",
       "    </tr>\n",
       "  </thead>\n",
       "  <tbody>\n",
       "    <tr>\n",
       "      <th>0</th>\n",
       "      <td>C:/Users/Villoro/Documents/Mega/Videos/03 Fina...</td>\n",
       "      <td>2013 Varies</td>\n",
       "      <td>2013</td>\n",
       "      <td>-Foto  12.jpg</td>\n",
       "      <td>True</td>\n",
       "    </tr>\n",
       "    <tr>\n",
       "      <th>1</th>\n",
       "      <td>C:/Users/Villoro/Documents/Mega/Videos/03 Fina...</td>\n",
       "      <td>2013 Varies</td>\n",
       "      <td>2013</td>\n",
       "      <td>2013_01_06 - Xavier i Berta.jpg</td>\n",
       "      <td>False</td>\n",
       "    </tr>\n",
       "    <tr>\n",
       "      <th>2</th>\n",
       "      <td>C:/Users/Villoro/Documents/Mega/Videos/03 Fina...</td>\n",
       "      <td>2013 Varies</td>\n",
       "      <td>2013</td>\n",
       "      <td>2013_01_06 -Xavier Sofà.jpg</td>\n",
       "      <td>False</td>\n",
       "    </tr>\n",
       "    <tr>\n",
       "      <th>3</th>\n",
       "      <td>C:/Users/Villoro/Documents/Mega/Videos/03 Fina...</td>\n",
       "      <td>2013 Varies</td>\n",
       "      <td>2013</td>\n",
       "      <td>2013_02_05 - 16 Berta (1).jpg</td>\n",
       "      <td>False</td>\n",
       "    </tr>\n",
       "    <tr>\n",
       "      <th>4</th>\n",
       "      <td>C:/Users/Villoro/Documents/Mega/Videos/03 Fina...</td>\n",
       "      <td>2013 Varies</td>\n",
       "      <td>2013</td>\n",
       "      <td>2013_02_05 - 16 Berta (2).jpg</td>\n",
       "      <td>False</td>\n",
       "    </tr>\n",
       "    <tr>\n",
       "      <th>...</th>\n",
       "      <td>...</td>\n",
       "      <td>...</td>\n",
       "      <td>...</td>\n",
       "      <td>...</td>\n",
       "      <td>...</td>\n",
       "    </tr>\n",
       "    <tr>\n",
       "      <th>290</th>\n",
       "      <td>C:/Users/Villoro/Documents/Mega/Videos/03 Fina...</td>\n",
       "      <td>2013_12_31 - Cap d'Any</td>\n",
       "      <td>2013:12:31</td>\n",
       "      <td>IMG_20140101_004408.jpg</td>\n",
       "      <td>True</td>\n",
       "    </tr>\n",
       "    <tr>\n",
       "      <th>291</th>\n",
       "      <td>C:/Users/Villoro/Documents/Mega/Videos/03 Fina...</td>\n",
       "      <td>Festa Major</td>\n",
       "      <td>2013</td>\n",
       "      <td>IMG_2318.jpg</td>\n",
       "      <td>False</td>\n",
       "    </tr>\n",
       "    <tr>\n",
       "      <th>292</th>\n",
       "      <td>C:/Users/Villoro/Documents/Mega/Videos/03 Fina...</td>\n",
       "      <td>Festa Major</td>\n",
       "      <td>2013</td>\n",
       "      <td>IMG_2319.jpg</td>\n",
       "      <td>False</td>\n",
       "    </tr>\n",
       "    <tr>\n",
       "      <th>293</th>\n",
       "      <td>C:/Users/Villoro/Documents/Mega/Videos/03 Fina...</td>\n",
       "      <td>Festa Major</td>\n",
       "      <td>2013</td>\n",
       "      <td>IMG_2320.jpg</td>\n",
       "      <td>False</td>\n",
       "    </tr>\n",
       "    <tr>\n",
       "      <th>294</th>\n",
       "      <td>C:/Users/Villoro/Documents/Mega/Videos/03 Fina...</td>\n",
       "      <td>Festa Major</td>\n",
       "      <td>2013</td>\n",
       "      <td>IMG_2322.jpg</td>\n",
       "      <td>False</td>\n",
       "    </tr>\n",
       "  </tbody>\n",
       "</table>\n",
       "<p>295 rows × 5 columns</p>\n",
       "</div>"
      ],
      "text/plain": [
       "                                             base_path  \\\n",
       "0    C:/Users/Villoro/Documents/Mega/Videos/03 Fina...   \n",
       "1    C:/Users/Villoro/Documents/Mega/Videos/03 Fina...   \n",
       "2    C:/Users/Villoro/Documents/Mega/Videos/03 Fina...   \n",
       "3    C:/Users/Villoro/Documents/Mega/Videos/03 Fina...   \n",
       "4    C:/Users/Villoro/Documents/Mega/Videos/03 Fina...   \n",
       "..                                                 ...   \n",
       "290  C:/Users/Villoro/Documents/Mega/Videos/03 Fina...   \n",
       "291  C:/Users/Villoro/Documents/Mega/Videos/03 Fina...   \n",
       "292  C:/Users/Villoro/Documents/Mega/Videos/03 Fina...   \n",
       "293  C:/Users/Villoro/Documents/Mega/Videos/03 Fina...   \n",
       "294  C:/Users/Villoro/Documents/Mega/Videos/03 Fina...   \n",
       "\n",
       "                     folder folder_date                             file  \\\n",
       "0               2013 Varies        2013                    -Foto  12.jpg   \n",
       "1               2013 Varies        2013  2013_01_06 - Xavier i Berta.jpg   \n",
       "2               2013 Varies        2013      2013_01_06 -Xavier Sofà.jpg   \n",
       "3               2013 Varies        2013    2013_02_05 - 16 Berta (1).jpg   \n",
       "4               2013 Varies        2013    2013_02_05 - 16 Berta (2).jpg   \n",
       "..                      ...         ...                              ...   \n",
       "290  2013_12_31 - Cap d'Any  2013:12:31          IMG_20140101_004408.jpg   \n",
       "291             Festa Major        2013                     IMG_2318.jpg   \n",
       "292             Festa Major        2013                     IMG_2319.jpg   \n",
       "293             Festa Major        2013                     IMG_2320.jpg   \n",
       "294             Festa Major        2013                     IMG_2322.jpg   \n",
       "\n",
       "     to_update  \n",
       "0         True  \n",
       "1        False  \n",
       "2        False  \n",
       "3        False  \n",
       "4        False  \n",
       "..         ...  \n",
       "290       True  \n",
       "291      False  \n",
       "292      False  \n",
       "293      False  \n",
       "294      False  \n",
       "\n",
       "[295 rows x 5 columns]"
      ]
     },
     "execution_count": 3,
     "metadata": {},
     "output_type": "execute_result"
    }
   ],
   "source": [
    "path_todo = f\"{PATH}/2013\"\n",
    "dfg = get_all_files_in_path(path_todo, verbose=True)\n",
    "dfg"
   ]
  },
  {
   "cell_type": "code",
   "execution_count": 35,
   "id": "9516beec",
   "metadata": {},
   "outputs": [
    {
     "data": {
      "text/plain": [
       "['2014_06_28 - Tornada de Canadà (2).jpg',\n",
       " '2014_06_28 - Tornada de Canadà (3).jpg',\n",
       " '2014_06_28 - Tornada de Canadà (4).jpg',\n",
       " '2014_06_28 - Tornada de Canadà (5).jpg']"
      ]
     },
     "execution_count": 35,
     "metadata": {},
     "output_type": "execute_result"
    }
   ],
   "source": [
    "df[\"files\"].tolist()[0]"
   ]
  },
  {
   "cell_type": "code",
   "execution_count": 36,
   "id": "aea5b679",
   "metadata": {},
   "outputs": [
    {
     "data": {
      "application/vnd.jupyter.widget-view+json": {
       "model_id": "2c162a24688b42f79b6f866fbcaee9cf",
       "version_major": 2,
       "version_minor": 0
      },
      "text/plain": [
       "  0%|          | 0/12 [00:00<?, ?it/s]"
      ]
     },
     "metadata": {},
     "output_type": "display_data"
    },
    {
     "data": {
      "text/html": [
       "<div>\n",
       "<style scoped>\n",
       "    .dataframe tbody tr th:only-of-type {\n",
       "        vertical-align: middle;\n",
       "    }\n",
       "\n",
       "    .dataframe tbody tr th {\n",
       "        vertical-align: top;\n",
       "    }\n",
       "\n",
       "    .dataframe thead th {\n",
       "        text-align: right;\n",
       "    }\n",
       "</style>\n",
       "<table border=\"1\" class=\"dataframe\">\n",
       "  <thead>\n",
       "    <tr style=\"text-align: right;\">\n",
       "      <th></th>\n",
       "      <th>path</th>\n",
       "      <th>folder_date</th>\n",
       "      <th>updated</th>\n",
       "      <th>total</th>\n",
       "    </tr>\n",
       "  </thead>\n",
       "  <tbody>\n",
       "    <tr>\n",
       "      <th>4</th>\n",
       "      <td>2014_06 Berta torna a casa</td>\n",
       "      <td>2014:06</td>\n",
       "      <td>4</td>\n",
       "      <td>4</td>\n",
       "    </tr>\n",
       "    <tr>\n",
       "      <th>5</th>\n",
       "      <td>2014_07 Londres mare i filla</td>\n",
       "      <td>2014:07</td>\n",
       "      <td>16</td>\n",
       "      <td>40</td>\n",
       "    </tr>\n",
       "  </tbody>\n",
       "</table>\n",
       "</div>"
      ],
      "text/plain": [
       "                           path folder_date  updated  total\n",
       "4    2014_06 Berta torna a casa     2014:06        4      4\n",
       "5  2014_07 Londres mare i filla     2014:07       16     40"
      ]
     },
     "execution_count": 36,
     "metadata": {},
     "output_type": "execute_result"
    }
   ],
   "source": [
    "dfg = get_all_files_in_path(path_todo , dry_run=False)\n",
    "dfg[dfg[\"updated\"] > 0]"
   ]
  },
  {
   "cell_type": "code",
   "execution_count": null,
   "id": "96310ced",
   "metadata": {},
   "outputs": [],
   "source": []
  }
 ],
 "metadata": {
  "kernelspec": {
   "display_name": "Python 3 (ipykernel)",
   "language": "python",
   "name": "python3"
  },
  "language_info": {
   "codemirror_mode": {
    "name": "ipython",
    "version": 3
   },
   "file_extension": ".py",
   "mimetype": "text/x-python",
   "name": "python",
   "nbconvert_exporter": "python",
   "pygments_lexer": "ipython3",
   "version": "3.9.10"
  }
 },
 "nbformat": 4,
 "nbformat_minor": 5
}
