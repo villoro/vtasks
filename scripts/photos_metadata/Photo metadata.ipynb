{
 "cells": [
  {
   "cell_type": "code",
   "execution_count": 1,
   "id": "4c3bc5a0",
   "metadata": {},
   "outputs": [],
   "source": [
    "import sys\n",
    "from metadata import *\n",
    "from docs import Doc\n",
    "from scan import read_everything, summarize"
   ]
  },
  {
   "cell_type": "code",
   "execution_count": 2,
   "id": "c06db07f",
   "metadata": {},
   "outputs": [],
   "source": [
    "CONFIG = {\n",
    "    \"handlers\": [\n",
    "        {\"sink\": sys.stdout, \"level\": \"ERROR\"},\n",
    "        {\"sink\": \"logs/info.log\", \"level\": \"INFO\"},\n",
    "        {\"sink\": \"logs/debug.log\", \"level\": \"DEBUG\"},\n",
    "    ]\n",
    "}\n",
    "\n",
    "log.configure(**CONFIG)\n",
    "log.enable(\"metadata\")"
   ]
  },
  {
   "cell_type": "code",
   "execution_count": 3,
   "id": "46a64b9c",
   "metadata": {},
   "outputs": [],
   "source": [
    "base_path = \"C:/Users/Villoro/Documents/Mega/Videos/04 Metadades\""
   ]
  },
  {
   "cell_type": "code",
   "execution_count": 4,
   "id": "21ddd41d",
   "metadata": {},
   "outputs": [
    {
     "data": {
      "application/vnd.jupyter.widget-view+json": {
       "model_id": "637b5b98f37a4178ab6710c064214f46",
       "version_major": 2,
       "version_minor": 0
      },
      "text/plain": [
       "  0%|          | 0/285 [00:00<?, ?it/s]"
      ]
     },
     "metadata": {},
     "output_type": "display_data"
    },
    {
     "name": "stdout",
     "output_type": "stream",
     "text": [
      "2022-05-15 17:45:44.746 | ERROR    | scan:get_folder_date:27 - Unable to extract data for folder='C:'\n"
     ]
    },
    {
     "name": "stderr",
     "output_type": "stream",
     "text": [
      "C:\\Python\\Python39\\lib\\site-packages\\exif\\_image.py:171: RuntimeWarning: ASCII tag contains -1 fewer bytes than specified\n",
      "  retval = self.__getattr__(attribute)\n"
     ]
    }
   ],
   "source": [
    "dfg = read_everything(base_path)\n",
    "dfg.to_excel(\"data/files.xlsx\")"
   ]
  },
  {
   "cell_type": "code",
   "execution_count": 5,
   "id": "4f47ab9c",
   "metadata": {},
   "outputs": [],
   "source": [
    "df = summarize(dfg)\n",
    "df.to_excel(\"data/summary.xlsx\")"
   ]
  },
  {
   "cell_type": "code",
   "execution_count": 11,
   "id": "6fc2a093",
   "metadata": {},
   "outputs": [],
   "source": [
    "def length_meta(file):\n",
    "    with open(file, \"rb\") as stream:\n",
    "        image = Image(stream)\n",
    "        \n",
    "    return len(image.list_all())"
   ]
  },
  {
   "cell_type": "code",
   "execution_count": 21,
   "id": "ad8be5dd",
   "metadata": {},
   "outputs": [
    {
     "data": {
      "text/plain": [
       "0"
      ]
     },
     "execution_count": 21,
     "metadata": {},
     "output_type": "execute_result"
    }
   ],
   "source": [
    "file = \"C:/Users/Villoro/Documents/Mega/Videos/04 Metadades/2022/2022_04_17 Mona/0c2786cb-a7be-498d-bb42-24e14a7f4633.jpg\"\n",
    "length_meta(file)"
   ]
  },
  {
   "cell_type": "code",
   "execution_count": 22,
   "id": "7938dc4a",
   "metadata": {},
   "outputs": [],
   "source": [
    "img = PIL.Image.open(file)"
   ]
  },
  {
   "cell_type": "code",
   "execution_count": 25,
   "id": "a43ad308",
   "metadata": {},
   "outputs": [
    {
     "data": {
      "text/plain": [
       "0"
      ]
     },
     "execution_count": 25,
     "metadata": {},
     "output_type": "execute_result"
    }
   ],
   "source": [
    "img.save(\"C:/Users/Villoro/Documents/Mega/Videos/04 Metadades/2022/2022_04_17 Mona/patata.jpg\")\n",
    "length_meta(\"C:/Users/Villoro/Documents/Mega/Videos/04 Metadades/2022/2022_04_17 Mona/patata.jpg\")"
   ]
  },
  {
   "cell_type": "code",
   "execution_count": null,
   "id": "8d9ffb46",
   "metadata": {},
   "outputs": [],
   "source": []
  }
 ],
 "metadata": {
  "kernelspec": {
   "display_name": "Python 3 (ipykernel)",
   "language": "python",
   "name": "python3"
  },
  "language_info": {
   "codemirror_mode": {
    "name": "ipython",
    "version": 3
   },
   "file_extension": ".py",
   "mimetype": "text/x-python",
   "name": "python",
   "nbconvert_exporter": "python",
   "pygments_lexer": "ipython3",
   "version": "3.9.10"
  }
 },
 "nbformat": 4,
 "nbformat_minor": 5
}
